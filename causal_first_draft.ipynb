{
 "cells": [
  {
   "cell_type": "code",
   "execution_count": 1,
   "metadata": {},
   "outputs": [
    {
     "name": "stderr",
     "output_type": "stream",
     "text": [
      "c:\\Users\\antonio\\anaconda3\\envs\\causal_ds_env\\Lib\\site-packages\\tqdm\\auto.py:21: TqdmWarning: IProgress not found. Please update jupyter and ipywidgets. See https://ipywidgets.readthedocs.io/en/stable/user_install.html\n",
      "  from .autonotebook import tqdm as notebook_tqdm\n"
     ]
    }
   ],
   "source": [
    "import dowhy\n",
    "import pandas as pd"
   ]
  },
  {
   "cell_type": "markdown",
   "metadata": {},
   "source": [
    "- Treatment (Binary): Treatment column that indicates wether the person received treatment or not\n",
    "- Education (Binary): Years of education\n",
    "- Black (Binary): Is black\n",
    "- Hispanic (Binary): Is hispanic\n",
    "- Married (Binary): Is married\n",
    "- No Degree (Binary): Has High School diploma\n",
    "- re74 (float): Real earnings 1974 prior study participation (pre-treatment)\n",
    "- re75 (float): Real earnings 1975 prior study participation (pos-treatment)\n",
    "- re78 (float): Real earnings 1978 after study participation (Y)"
   ]
  },
  {
   "cell_type": "code",
   "execution_count": 22,
   "metadata": {},
   "outputs": [
    {
     "data": {
      "text/html": [
       "<div>\n",
       "<style scoped>\n",
       "    .dataframe tbody tr th:only-of-type {\n",
       "        vertical-align: middle;\n",
       "    }\n",
       "\n",
       "    .dataframe tbody tr th {\n",
       "        vertical-align: top;\n",
       "    }\n",
       "\n",
       "    .dataframe thead th {\n",
       "        text-align: right;\n",
       "    }\n",
       "</style>\n",
       "<table border=\"1\" class=\"dataframe\">\n",
       "  <thead>\n",
       "    <tr style=\"text-align: right;\">\n",
       "      <th></th>\n",
       "      <th>age</th>\n",
       "      <th>education</th>\n",
       "      <th>black</th>\n",
       "      <th>hispanic</th>\n",
       "      <th>married</th>\n",
       "      <th>non_degree</th>\n",
       "      <th>earnings74</th>\n",
       "      <th>earnings75</th>\n",
       "      <th>unemployed74</th>\n",
       "      <th>unemployed75</th>\n",
       "      <th>treatment</th>\n",
       "      <th>y</th>\n",
       "    </tr>\n",
       "  </thead>\n",
       "  <tbody>\n",
       "    <tr>\n",
       "      <th>0</th>\n",
       "      <td>23</td>\n",
       "      <td>10</td>\n",
       "      <td>1</td>\n",
       "      <td>0</td>\n",
       "      <td>0</td>\n",
       "      <td>1</td>\n",
       "      <td>0.0</td>\n",
       "      <td>0.0</td>\n",
       "      <td>1</td>\n",
       "      <td>1</td>\n",
       "      <td>0</td>\n",
       "      <td>0.00</td>\n",
       "    </tr>\n",
       "    <tr>\n",
       "      <th>1</th>\n",
       "      <td>26</td>\n",
       "      <td>12</td>\n",
       "      <td>0</td>\n",
       "      <td>0</td>\n",
       "      <td>0</td>\n",
       "      <td>0</td>\n",
       "      <td>0.0</td>\n",
       "      <td>0.0</td>\n",
       "      <td>1</td>\n",
       "      <td>1</td>\n",
       "      <td>0</td>\n",
       "      <td>12383.68</td>\n",
       "    </tr>\n",
       "    <tr>\n",
       "      <th>2</th>\n",
       "      <td>22</td>\n",
       "      <td>9</td>\n",
       "      <td>1</td>\n",
       "      <td>0</td>\n",
       "      <td>0</td>\n",
       "      <td>1</td>\n",
       "      <td>0.0</td>\n",
       "      <td>0.0</td>\n",
       "      <td>1</td>\n",
       "      <td>1</td>\n",
       "      <td>0</td>\n",
       "      <td>0.00</td>\n",
       "    </tr>\n",
       "    <tr>\n",
       "      <th>3</th>\n",
       "      <td>18</td>\n",
       "      <td>9</td>\n",
       "      <td>1</td>\n",
       "      <td>0</td>\n",
       "      <td>0</td>\n",
       "      <td>1</td>\n",
       "      <td>0.0</td>\n",
       "      <td>0.0</td>\n",
       "      <td>1</td>\n",
       "      <td>1</td>\n",
       "      <td>0</td>\n",
       "      <td>10740.08</td>\n",
       "    </tr>\n",
       "    <tr>\n",
       "      <th>4</th>\n",
       "      <td>45</td>\n",
       "      <td>11</td>\n",
       "      <td>1</td>\n",
       "      <td>0</td>\n",
       "      <td>0</td>\n",
       "      <td>1</td>\n",
       "      <td>0.0</td>\n",
       "      <td>0.0</td>\n",
       "      <td>1</td>\n",
       "      <td>1</td>\n",
       "      <td>0</td>\n",
       "      <td>11796.47</td>\n",
       "    </tr>\n",
       "  </tbody>\n",
       "</table>\n",
       "</div>"
      ],
      "text/plain": [
       "   age  education  black  hispanic  married  non_degree  earnings74  \\\n",
       "0   23         10      1         0        0           1         0.0   \n",
       "1   26         12      0         0        0           0         0.0   \n",
       "2   22          9      1         0        0           1         0.0   \n",
       "3   18          9      1         0        0           1         0.0   \n",
       "4   45         11      1         0        0           1         0.0   \n",
       "\n",
       "   earnings75  unemployed74  unemployed75  treatment         y  \n",
       "0         0.0             1             1          0      0.00  \n",
       "1         0.0             1             1          0  12383.68  \n",
       "2         0.0             1             1          0      0.00  \n",
       "3         0.0             1             1          0  10740.08  \n",
       "4         0.0             1             1          0  11796.47  "
      ]
     },
     "execution_count": 22,
     "metadata": {},
     "output_type": "execute_result"
    }
   ],
   "source": [
    "lalonde_df = pd.read_csv(\"lalonde_dataset.csv\", index_col=0)\n",
    "integer_cols =  [\"treat\", \"age\", \"educ\", \"black\", \"hisp\", \"married\", \"nodegr\", \"u74\", \"u75\"]\n",
    "lalonde_df[integer_cols] = lalonde_df[integer_cols].astype(\"int64\")\n",
    "lalonde_df.rename(columns = {\n",
    "    \"treat\":\"treatment\",\n",
    "    \"re78\":\"y\",\n",
    "    \"re75\":\"earnings75\",\n",
    "    \"re74\":\"earnings74\",\n",
    "    \"u74\":\"unemployed74\",\n",
    "    \"u75\":\"unemployed75\",\n",
    "    \"educ\":\"education\",\n",
    "    \"nodegr\":\"non_degree\",\n",
    "    \"hisp\":\"hispanic\",\n",
    "}, inplace=True)\n",
    "lalonde_df = lalonde_df[[\"age\", \"education\", \"black\", \"hispanic\", \"married\", \"non_degree\", \"earnings74\", \"earnings75\", \"unemployed74\", \"unemployed75\", \"treatment\", \"y\"]]\n",
    "lalonde_df.head()"
   ]
  },
  {
   "cell_type": "code",
   "execution_count": 23,
   "metadata": {},
   "outputs": [
    {
     "name": "stdout",
     "output_type": "stream",
     "text": [
      "Causal Estimate is 1639.8517573198114\n"
     ]
    }
   ],
   "source": [
    "model=dowhy.CausalModel(\n",
    "        data = lalonde_df,\n",
    "        treatment='treatment',\n",
    "        outcome='y',\n",
    "        common_causes=[\"non_degree\", \"black\" ,\"hispanic\", \"age\", \"education\",\"married\"])\n",
    "identified_estimand = model.identify_effect(proceed_when_unidentifiable=True)\n",
    "estimate = model.estimate_effect(identified_estimand,\n",
    "        method_name=\"backdoor.propensity_score_weighting\",\n",
    "        target_units=\"ate\",\n",
    "        method_params={\"weighting_scheme\":\"ips_weight\"})\n",
    "#print(estimate)\n",
    "print(\"Causal Estimate is \" + str(estimate.value))"
   ]
  },
  {
   "cell_type": "code",
   "execution_count": 28,
   "metadata": {},
   "outputs": [
    {
     "name": "stderr",
     "output_type": "stream",
     "text": [
      "c:\\Users\\antonio\\anaconda3\\envs\\causal_ds_env\\Lib\\site-packages\\dowhy\\interpreters\\confounder_distribution_interpreter.py:87: FutureWarning: The provided callable <function sum at 0x000001FBFF129D00> is currently using SeriesGroupBy.sum. In a future version of pandas, the provided callable will be used directly. To keep current behavior pass the string \"sum\" instead.\n",
      "  barplot_df_after = df.groupby([self.var_name, treated]).agg({\"weight\": np.sum}).reset_index()\n"
     ]
    },
    {
     "data": {
      "image/png": "[encoded data removed]",
      "text/plain": [
       "<Figure size 800x400 with 2 Axes>"
      ]
     },
     "metadata": {},
     "output_type": "display_data"
    }
   ],
   "source": [
    "estimate.interpret(method_name=\"confounder_distribution_interpreter\",var_type='discrete',\n",
    "                   var_name='married', fig_size = (8, 4), font_size = 8)"
   ]
  },
  {
   "cell_type": "markdown",
   "metadata": {},
   "source": [
    "Proving the ATE"
   ]
  },
  {
   "cell_type": "code",
   "execution_count": 31,
   "metadata": {},
   "outputs": [
    {
     "name": "stdout",
     "output_type": "stream",
     "text": [
      "Causal Estimate is 1639.8517573198142\n"
     ]
    }
   ],
   "source": [
    "df = model._data\n",
    "ps = df['propensity_score']\n",
    "y = df['y']\n",
    "z = df['treatment']\n",
    "\n",
    "ey1 = z*y/ps / sum(z/ps)\n",
    "ey0 = (1-z)*y/(1-ps) / sum((1-z)/(1-ps))\n",
    "ate = ey1.sum()-ey0.sum()\n",
    "print(\"Causal Estimate is \" + str(ate))"
   ]
  },
  {
   "cell_type": "code",
   "execution_count": null,
   "metadata": {},
   "outputs": [],
   "source": []
  }
 ],
 "metadata": {
  "kernelspec": {
   "display_name": "causal_ds_env",
   "language": "python",
   "name": "python3"
  },
  "language_info": {
   "codemirror_mode": {
    "name": "ipython",
    "version": 3
   },
   "file_extension": ".py",
   "mimetype": "text/x-python",
   "name": "python",
   "nbconvert_exporter": "python",
   "pygments_lexer": "ipython3",
   "version": "3.11.7"
  }
 },
 "nbformat": 4,
 "nbformat_minor": 2
}
