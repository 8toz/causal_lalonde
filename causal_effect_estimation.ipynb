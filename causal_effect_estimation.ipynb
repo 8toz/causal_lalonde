{
 "cells": [
  {
   "cell_type": "code",
   "execution_count": 1,
   "metadata": {},
   "outputs": [
    {
     "name": "stderr",
     "output_type": "stream",
     "text": [
      "c:\\Users\\antonio\\anaconda3\\envs\\causal_ds_env\\Lib\\site-packages\\tqdm\\auto.py:21: TqdmWarning: IProgress not found. Please update jupyter and ipywidgets. See https://ipywidgets.readthedocs.io/en/stable/user_install.html\n",
      "  from .autonotebook import tqdm as notebook_tqdm\n"
     ]
    }
   ],
   "source": [
    "import utils\n",
    "import pandas as pd\n",
    "import dowhy\n",
    "from dowhy import CausalModel\n",
    "import numpy as np\n",
    "import re"
   ]
  },
  {
   "cell_type": "code",
   "execution_count": 2,
   "metadata": {},
   "outputs": [],
   "source": [
    "lalonde_original, nswre_df, cps_control, psid_control, cps2_control, cps3_control, psid2_control, psid3_control = utils.load_data()\n",
    "nswre_cps, nswre_cps2, nswre_cps3, nswre_psid, nswre_psid2, nswre_psid3 = utils.load_combinations(nswre_df, cps_control, cps2_control, cps3_control,  psid_control, psid2_control, psid3_control)\n",
    "\n",
    "graph = utils.extract_CD_graph(\"Forced_Graph\") #Loads the graph from json\n",
    "#utils.draw_graph(graph) #plots the graph\n",
    "combinations_dict = {\"nswre_experiment\": nswre_df, \n",
    "                     \"nswre_cps\": nswre_cps, \n",
    "                     \"nswre_cps2\": nswre_cps2, \n",
    "                     \"nswre_cps3\": nswre_cps3, \n",
    "                     \"nswre_psid\": nswre_psid, \n",
    "                     \"nswre_psid2\": nswre_psid2, \n",
    "                     \"nswre_psid3\": nswre_psid3}"
   ]
  },
  {
   "cell_type": "markdown",
   "metadata": {},
   "source": [
    "## Identifying Estimands and Estimating the Causal Effect and Sensitivity Analysis"
   ]
  },
  {
   "cell_type": "code",
   "execution_count": 3,
   "metadata": {},
   "outputs": [
    {
     "name": "stderr",
     "output_type": "stream",
     "text": [
      "Fitting causal mechanism of node re78: 100%|██████████| 9/9 [00:00<00:00, 48.53it/s]    \n",
      "Fitting causal mechanism of node re78: 100%|██████████| 9/9 [00:00<00:00, 89.11it/s]\n",
      "Fitting causal mechanism of node re78: 100%|██████████| 9/9 [00:00<00:00, 132.26it/s]\n",
      "Fitting causal mechanism of node re78: 100%|██████████| 9/9 [00:00<00:00, 163.64it/s]\n",
      "Fitting causal mechanism of node re78: 100%|██████████| 9/9 [00:00<00:00, 147.54it/s]\n",
      "Fitting causal mechanism of node re78: 100%|██████████| 9/9 [00:00<00:00, 130.43it/s]\n",
      "Fitting causal mechanism of node re78: 100%|██████████| 9/9 [00:00<00:00, 155.17it/s]\n"
     ]
    },
    {
     "data": {
      "text/html": [
       "<div>\n",
       "<style scoped>\n",
       "    .dataframe tbody tr th:only-of-type {\n",
       "        vertical-align: middle;\n",
       "    }\n",
       "\n",
       "    .dataframe tbody tr th {\n",
       "        vertical-align: top;\n",
       "    }\n",
       "\n",
       "    .dataframe thead th {\n",
       "        text-align: right;\n",
       "    }\n",
       "</style>\n",
       "<table border=\"1\" class=\"dataframe\">\n",
       "  <thead>\n",
       "    <tr style=\"text-align: right;\">\n",
       "      <th></th>\n",
       "      <th>backdoor</th>\n",
       "      <th>backdoor.propensity_score_weighting</th>\n",
       "      <th>bootstrap_refuterbackdoor.propensity_score_weighting</th>\n",
       "      <th>data_subset_refuterbackdoor.propensity_score_weighting</th>\n",
       "      <th>probabilistic_effect</th>\n",
       "    </tr>\n",
       "  </thead>\n",
       "  <tbody>\n",
       "    <tr>\n",
       "      <th>nswre_experiment</th>\n",
       "      <td>[married, re75, nodegree]</td>\n",
       "      <td>1563.329507</td>\n",
       "      <td>1444.996937</td>\n",
       "      <td>1529.464603</td>\n",
       "      <td>1697.604137</td>\n",
       "    </tr>\n",
       "    <tr>\n",
       "      <th>nswre_cps</th>\n",
       "      <td>[married, re75, nodegree]</td>\n",
       "      <td>-8193.897814</td>\n",
       "      <td>8205.591835</td>\n",
       "      <td>8236.759492</td>\n",
       "      <td>-4426.348616</td>\n",
       "    </tr>\n",
       "    <tr>\n",
       "      <th>nswre_cps2</th>\n",
       "      <td>[married, re75, nodegree]</td>\n",
       "      <td>-3276.954688</td>\n",
       "      <td>3312.878164</td>\n",
       "      <td>3247.674335</td>\n",
       "      <td>-1459.810794</td>\n",
       "    </tr>\n",
       "    <tr>\n",
       "      <th>nswre_cps3</th>\n",
       "      <td>[married, re75, nodegree]</td>\n",
       "      <td>378.536121</td>\n",
       "      <td>322.993730</td>\n",
       "      <td>378.419655</td>\n",
       "      <td>1094.913850</td>\n",
       "    </tr>\n",
       "    <tr>\n",
       "      <th>nswre_psid</th>\n",
       "      <td>[married, re75, nodegree]</td>\n",
       "      <td>-13065.420938</td>\n",
       "      <td>13128.128276</td>\n",
       "      <td>13084.405009</td>\n",
       "      <td>-7446.113984</td>\n",
       "    </tr>\n",
       "    <tr>\n",
       "      <th>nswre_psid2</th>\n",
       "      <td>[married, re75, nodegree]</td>\n",
       "      <td>215.255470</td>\n",
       "      <td>232.337055</td>\n",
       "      <td>91.164449</td>\n",
       "      <td>-2602.788388</td>\n",
       "    </tr>\n",
       "    <tr>\n",
       "      <th>nswre_psid3</th>\n",
       "      <td>[married, re75, nodegree]</td>\n",
       "      <td>2179.493380</td>\n",
       "      <td>2088.891062</td>\n",
       "      <td>2123.830808</td>\n",
       "      <td>839.822980</td>\n",
       "    </tr>\n",
       "  </tbody>\n",
       "</table>\n",
       "</div>"
      ],
      "text/plain": [
       "                                   backdoor  \\\n",
       "nswre_experiment  [married, re75, nodegree]   \n",
       "nswre_cps         [married, re75, nodegree]   \n",
       "nswre_cps2        [married, re75, nodegree]   \n",
       "nswre_cps3        [married, re75, nodegree]   \n",
       "nswre_psid        [married, re75, nodegree]   \n",
       "nswre_psid2       [married, re75, nodegree]   \n",
       "nswre_psid3       [married, re75, nodegree]   \n",
       "\n",
       "                  backdoor.propensity_score_weighting  \\\n",
       "nswre_experiment                          1563.329507   \n",
       "nswre_cps                                -8193.897814   \n",
       "nswre_cps2                               -3276.954688   \n",
       "nswre_cps3                                 378.536121   \n",
       "nswre_psid                              -13065.420938   \n",
       "nswre_psid2                                215.255470   \n",
       "nswre_psid3                               2179.493380   \n",
       "\n",
       "                  bootstrap_refuterbackdoor.propensity_score_weighting  \\\n",
       "nswre_experiment                                        1444.996937      \n",
       "nswre_cps                                               8205.591835      \n",
       "nswre_cps2                                              3312.878164      \n",
       "nswre_cps3                                               322.993730      \n",
       "nswre_psid                                             13128.128276      \n",
       "nswre_psid2                                              232.337055      \n",
       "nswre_psid3                                             2088.891062      \n",
       "\n",
       "                  data_subset_refuterbackdoor.propensity_score_weighting  \\\n",
       "nswre_experiment                                        1529.464603        \n",
       "nswre_cps                                               8236.759492        \n",
       "nswre_cps2                                              3247.674335        \n",
       "nswre_cps3                                               378.419655        \n",
       "nswre_psid                                             13084.405009        \n",
       "nswre_psid2                                               91.164449        \n",
       "nswre_psid3                                             2123.830808        \n",
       "\n",
       "                  probabilistic_effect  \n",
       "nswre_experiment           1697.604137  \n",
       "nswre_cps                 -4426.348616  \n",
       "nswre_cps2                -1459.810794  \n",
       "nswre_cps3                 1094.913850  \n",
       "nswre_psid                -7446.113984  \n",
       "nswre_psid2               -2602.788388  \n",
       "nswre_psid3                 839.822980  "
      ]
     },
     "execution_count": 3,
     "metadata": {},
     "output_type": "execute_result"
    }
   ],
   "source": [
    "utils.causal_estimation(combinations_dict, \n",
    "                  graph, \n",
    "                  methods=[\"backdoor.propensity_score_weighting\"], \n",
    "                  refuter_list = [\"bootstrap_refuter\", \"data_subset_refuter\"], \n",
    "                  treatment=\"treatment\",\n",
    "                  outcome=\"re78\")"
   ]
  },
  {
   "cell_type": "markdown",
   "metadata": {},
   "source": [
    "# Extra"
   ]
  },
  {
   "cell_type": "markdown",
   "metadata": {},
   "source": [
    "## Propensity Score Estimation"
   ]
  },
  {
   "cell_type": "code",
   "execution_count": null,
   "metadata": {},
   "outputs": [],
   "source": [
    "from sklearn.linear_model import LogisticRegression\n",
    "\n",
    "# Assuming X contains the covariates and treatment variable, and Y contains the outcome variable\n",
    "X_covariates = final_df[COVARIATES]  # Select relevant covariates\n",
    "treatment = final_df['treatment']  # Treatment variable (binary)\n",
    "outcome = final_df['re78']  # Outcome variable (binary or continuous)\n",
    "\n",
    "# Fit logistic regression model to estimate propensity scores\n",
    "logistic_model = LogisticRegression(max_iter=10000)\n",
    "logistic_model.fit(X_covariates, treatment)\n",
    "\n",
    "# Predict propensity scores\n",
    "propensity_scores = logistic_model.predict_proba(X_covariates)[:, 1]\n",
    "\n",
    "# Step 2: Define propensity score ranges\n",
    "# Example: Define a range from 0.2 to 0.8\n",
    "min_propensity = 0.2\n",
    "max_propensity = 0.8\n",
    "\n",
    "# Step 3: Filter the data\n",
    "# Create a mask to filter data points within the defined propensity score range\n",
    "mask = np.logical_and(propensity_scores >= min_propensity, propensity_scores <= max_propensity)\n",
    "\n",
    "# Apply the mask to filter the data\n",
    "filtered_data = X[mask]\n",
    "filtered_treatment = treatment[mask]\n",
    "filtered_outcome = outcome[mask]"
   ]
  },
  {
   "cell_type": "code",
   "execution_count": null,
   "metadata": {},
   "outputs": [],
   "source": [
    "import statsmodels.api as sm\n",
    "\n",
    "covariates = [\"treatment\",  \"age\", \"education\", \"black\" , \"hispanic\", \"married\", \"nodegree\", \"re74\"]\n",
    "# Assuming X is the treatment variable and Y is the outcome variable\n",
    "# data should contain the variables X and Y, along with any other relevant variables\n",
    "# Perform ordinary least squares (OLS) regression\n",
    "model = sm.OLS(final_df['re78'], sm.add_constant(final_df[covariates]))\n",
    "results = model.fit()\n",
    "\n",
    "# Get the estimated causal effect\n",
    "causal_effect = results.params[covariates]\n",
    "\n",
    "print(\"Estimated causal effect:\", causal_effect)"
   ]
  }
 ],
 "metadata": {
  "kernelspec": {
   "display_name": "causal_ds_env",
   "language": "python",
   "name": "python3"
  },
  "language_info": {
   "codemirror_mode": {
    "name": "ipython",
    "version": 3
   },
   "file_extension": ".py",
   "mimetype": "text/x-python",
   "name": "python",
   "nbconvert_exporter": "python",
   "pygments_lexer": "ipython3",
   "version": "3.11.7"
  }
 },
 "nbformat": 4,
 "nbformat_minor": 2
}
